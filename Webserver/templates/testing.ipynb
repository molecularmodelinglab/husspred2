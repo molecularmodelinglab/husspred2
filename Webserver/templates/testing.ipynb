{
 "cells": [
  {
   "cell_type": "code",
   "execution_count": 1,
   "metadata": {},
   "outputs": [
    {
     "name": "stdout",
     "output_type": "stream",
     "text": [
      "Current Working Directory: c:\\Users\\ricar\\Documents\\GitHub\\dev-tox\\Webserver\\templates\n"
     ]
    }
   ],
   "source": [
    "import os\n",
    "print(\"Current Working Directory:\", os.getcwd())\n"
   ]
  },
  {
   "cell_type": "markdown",
   "metadata": {},
   "source": [
    "# Smiles document final function"
   ]
  },
  {
   "cell_type": "code",
   "execution_count": 3,
   "metadata": {},
   "outputs": [],
   "source": [
    "from rdkit.Chem import MolFromSmiles, Draw\n",
    "import sys\n",
    "sys.path.append('c:/Users/ricar/Documents/GitHub/dev-tox')\n",
    "from dev_tox.dev_tox import main\n",
    "\n",
    "# to set the coloring display of the outcomes on the website\n",
    "COLORS = {\n",
    "    \"Toxic\": \"red\",\n",
    "    \"Non-toxic\": \"green\",\n",
    "}\n",
    "\n",
    "\n",
    "AD_MEANING = {\n",
    "    \"Inside\": \"The molecule is within the applicability domain of the model\",\n",
    "    \"Outside\": \"The molecule is outside the applicability domain of the model\",\n",
    "    \"\": \"\"\n",
    "}\n",
    "\n",
    "color_text = False  # set to True if you want to color code the text\n",
    "\n",
    "\n",
    "def get_molecule_data_from_smiles(smiles_str, options):\n",
    "    molecule = MolFromSmiles(smiles_str)\n",
    "\n",
    "    if molecule is None:\n",
    "        return None\n",
    "\n",
    "    data = main(smiles_str, **options)\n",
    "\n",
    "    # add color coding of text\n",
    "    if color_text:\n",
    "        data = [_ + [COLORS[_[1]]] for _ in data]\n",
    "    else:\n",
    "        data = [_ + [\"black\"] for _ in data]\n",
    "\n",
    "    print(options)\n",
    "\n",
    "    if \"make_prop_img\" in options.keys():\n",
    "        data = [_ + [AD_MEANING[_[1]]] for _ in data]\n",
    "    else:\n",
    "        data = [_ + [\"\"] for _ in data]\n",
    "\n",
    "    # skip if no models selected\n",
    "    if len(data) == 0:\n",
    "        return None\n",
    "\n",
    "    return {\n",
    "        'svg': Draw.MolsToGridImage([molecule], useSVG=True, molsPerRow=1),\n",
    "        'SMILES': smiles_str,\n",
    "        'pred_data': data,\n",
    "    }\n"
   ]
  },
  {
   "cell_type": "markdown",
   "metadata": {},
   "source": [
    "# Original function "
   ]
  },
  {
   "cell_type": "code",
   "execution_count": null,
   "metadata": {},
   "outputs": [],
   "source": [
    "from rdkit.Chem import MolFromSmiles, Draw\n",
    "from dev_tox.dev_tox import main\n",
    "\n",
    "# to set the coloring display of the outcomes on the website\n",
    "COLORS = {\n",
    "    \"Toxic\": \"red\",\n",
    "    \"Non-toxic\": \"green\",\n",
    "}\n",
    "\n",
    "\n",
    "AD_MEANING = {\n",
    "    \"Inside\": \"The molecule is within the applicability domain of the model\",\n",
    "    \"Outside\": \"The molecule is outside the applicability domain of the model\",\n",
    "    \"\": \"\"\n",
    "}\n",
    "\n",
    "color_text = False  # set to True if you want to color code the text\n",
    "\n",
    "\n",
    "def get_molecule_data_from_smiles(smiles_str, options):\n",
    "    molecule = MolFromSmiles(smiles_str)\n",
    "\n",
    "    if molecule is None:\n",
    "        return None\n",
    "\n",
    "    data = main(smiles_str, **options)\n",
    "\n",
    "    # add color coding of text\n",
    "    if color_text:\n",
    "        data = [_ + [COLORS[_[1]]] for _ in data]\n",
    "    else:\n",
    "        data = [_ + [\"black\"] for _ in data]\n",
    "\n",
    "    print(options)\n",
    "\n",
    "    if \"make_prop_img\" in options.keys():\n",
    "        data = [_ + [AD_MEANING[_[1]]] for _ in data]\n",
    "    else:\n",
    "        data = [_ + [\"\"] for _ in data]\n",
    "\n",
    "    # skip if no models selected\n",
    "    if len(data) == 0:\n",
    "        return None\n",
    "\n",
    "    return {\n",
    "        'svg': Draw.MolsToGridImage([molecule], useSVG=True, molsPerRow=1),\n",
    "        'SMILES': smiles_str,\n",
    "        'pred_data': data,\n",
    "    }\n"
   ]
  },
  {
   "cell_type": "markdown",
   "metadata": {},
   "source": [
    "# Main.py document original function"
   ]
  },
  {
   "cell_type": "code",
   "execution_count": 5,
   "metadata": {},
   "outputs": [
    {
     "ename": "ModuleNotFoundError",
     "evalue": "No module named 'smiles'",
     "output_type": "error",
     "traceback": [
      "\u001b[1;31m---------------------------------------------------------------------------\u001b[0m",
      "\u001b[1;31mModuleNotFoundError\u001b[0m                       Traceback (most recent call last)",
      "Cell \u001b[1;32mIn[5], line 2\u001b[0m\n\u001b[0;32m      1\u001b[0m \u001b[38;5;28;01mfrom\u001b[39;00m \u001b[38;5;21;01mflask\u001b[39;00m \u001b[38;5;28;01mimport\u001b[39;00m Flask, render_template, request, abort, Response, jsonify\n\u001b[1;32m----> 2\u001b[0m \u001b[38;5;28;01mfrom\u001b[39;00m \u001b[38;5;21;01msmiles\u001b[39;00m \u001b[38;5;28;01mimport\u001b[39;00m get_molecule_data_from_smiles\n\u001b[0;32m      3\u001b[0m \u001b[38;5;28;01mfrom\u001b[39;00m \u001b[38;5;21;01mPhaKinPro\u001b[39;00m\u001b[38;5;21;01m.\u001b[39;00m\u001b[38;5;21;01mphakinpro\u001b[39;00m \u001b[38;5;28;01mimport\u001b[39;00m MODEL_DICT\n\u001b[0;32m      4\u001b[0m \u001b[38;5;28;01mfrom\u001b[39;00m \u001b[38;5;21;01mcsv_smiles\u001b[39;00m \u001b[38;5;28;01mimport\u001b[39;00m get_csv_from_smiles\n",
      "\u001b[1;31mModuleNotFoundError\u001b[0m: No module named 'smiles'"
     ]
    }
   ],
   "source": [
    "from flask import Flask, render_template, request, abort, Response, jsonify\n",
    "from smiles import get_molecule_data_from_smiles\n",
    "from PhaKinPro.phakinpro import MODEL_DICT\n",
    "from csv_smiles import get_csv_from_smiles\n",
    "\n",
    "app = Flask(__name__)\n",
    "\n",
    "\n",
    "@app.route('/')\n",
    "def home():\n",
    "    print(\"main\")\n",
    "    return render_template('index.html')\n",
    "\n",
    "\n",
    "@app.route('/models', methods=['GET'])\n",
    "def mol_properties():\n",
    "    print(\"model_selection\")\n",
    "    return jsonify(list(MODEL_DICT.keys())), 200\n",
    "\n",
    "\n",
    "@app.route('/smiles', methods=['POST'])\n",
    "def smiles():\n",
    "    print(\"smiles\")\n",
    "\n",
    "    data = get_molecule_data_from_smiles(request.json.get('smiles'), request.json.get('options'))\n",
    "\n",
    "    if data is None:\n",
    "        return abort(400)\n",
    "\n",
    "    return data\n",
    "\n",
    "\n",
    "@app.route('/smiles-csv', methods=['POST'])\n",
    "def smiles_csv():\n",
    "    print(\"csv\")\n",
    "\n",
    "    smiles = request.json.get('smiles')\n",
    "    options = request.json.get('options')\n",
    "\n",
    "    num_models = sum([val for key, val in options.items() if key not in [\"calculate_ad\", \"make_prop_img\"]])\n",
    "\n",
    "    if len(smiles) * num_models > 100:\n",
    "        return abort(413)\n",
    "\n",
    "    csv = get_csv_from_smiles(request.json.get('smiles'), request.json.get('options'))\n",
    "\n",
    "    return Response(\n",
    "        csv,\n",
    "        mimetype=\"text/csv\",\n",
    "        headers={\"Content-disposition\": \"attachment;\"}\n",
    "    )\n"
   ]
  },
  {
   "cell_type": "markdown",
   "metadata": {},
   "source": [
    "# Main.py new function"
   ]
  },
  {
   "cell_type": "code",
   "execution_count": 11,
   "metadata": {},
   "outputs": [],
   "source": [
    "from flask import Flask, render_template, request, abort, Response, jsonify\n",
    "\n",
    "import sys\n",
    "sys.path.append('c:/Users/ricar/Documents/GitHub/dev-tox')\n",
    "from dev_tox.dev_tox import MODEL_DICT\n",
    "\n",
    "sys.path.append('c:/Users/ricar/Documents/GitHub/dev-tox/Webserver')\n",
    "from smiles import get_molecule_data_from_smiles\n",
    "from csv_smiles import get_csv_from_smiles\n",
    "\n",
    "app = Flask(__name__)\n",
    "\n",
    "\n",
    "@app.route('/')\n",
    "def home():\n",
    "    print(\"main\")\n",
    "    return render_template('index.html')\n",
    "\n",
    "\n",
    "@app.route('/models', methods=['GET'])\n",
    "def mol_properties():\n",
    "    print(\"model_selection\")\n",
    "    return jsonify(list(MODEL_DICT.keys())), 200\n",
    "\n",
    "\n",
    "@app.route('/smiles', methods=['POST'])\n",
    "def smiles():\n",
    "    print(\"smiles\")\n",
    "\n",
    "    data = get_molecule_data_from_smiles(request.json.get('smiles'), request.json.get('options'))\n",
    "\n",
    "    if data is None:\n",
    "        return abort(400)\n",
    "\n",
    "    return data\n",
    "\n",
    "\n",
    "@app.route('/smiles-csv', methods=['POST'])\n",
    "def smiles_csv():\n",
    "    print(\"csv\")\n",
    "\n",
    "    smiles = request.json.get('smiles')\n",
    "    options = request.json.get('options')\n",
    "\n",
    "    num_models = sum([val for key, val in options.items() if key not in [\"calculate_ad\", \"make_prop_img\"]])\n",
    "\n",
    "    if len(smiles) * num_models > 100:\n",
    "        return abort(413)\n",
    "\n",
    "    csv = get_csv_from_smiles(request.json.get('smiles'), request.json.get('options'))\n",
    "\n",
    "    return Response(\n",
    "        csv,\n",
    "        mimetype=\"text/csv\",\n",
    "        headers={\"Content-disposition\": \"attachment;\"}\n",
    "    )\n"
   ]
  },
  {
   "cell_type": "code",
   "execution_count": 1,
   "metadata": {},
   "outputs": [
    {
     "name": "stdout",
     "output_type": "stream",
     "text": [
      "['c:\\\\Users\\\\ricar\\\\Documents\\\\GitHub\\\\dev-tox\\\\Webserver\\\\templates', 'C:\\\\Program Files\\\\PerkinElmerInformatics\\\\ChemOffice2021\\\\ChemScript\\\\Lib', 'c:\\\\Users\\\\ricar\\\\anaconda3\\\\envs\\\\rdkit_env\\\\python311.zip', 'c:\\\\Users\\\\ricar\\\\anaconda3\\\\envs\\\\rdkit_env\\\\DLLs', 'c:\\\\Users\\\\ricar\\\\anaconda3\\\\envs\\\\rdkit_env\\\\Lib', 'c:\\\\Users\\\\ricar\\\\anaconda3\\\\envs\\\\rdkit_env', '', 'C:\\\\Users\\\\ricar\\\\AppData\\\\Roaming\\\\Python\\\\Python311\\\\site-packages', 'C:\\\\Users\\\\ricar\\\\AppData\\\\Roaming\\\\Python\\\\Python311\\\\site-packages\\\\win32', 'C:\\\\Users\\\\ricar\\\\AppData\\\\Roaming\\\\Python\\\\Python311\\\\site-packages\\\\win32\\\\lib', 'C:\\\\Users\\\\ricar\\\\AppData\\\\Roaming\\\\Python\\\\Python311\\\\site-packages\\\\Pythonwin', 'c:\\\\Users\\\\ricar\\\\anaconda3\\\\envs\\\\rdkit_env\\\\Lib\\\\site-packages']\n"
     ]
    }
   ],
   "source": []
  },
  {
   "cell_type": "code",
   "execution_count": null,
   "metadata": {},
   "outputs": [],
   "source": []
  }
 ],
 "metadata": {
  "kernelspec": {
   "display_name": "my-rdkit-env",
   "language": "python",
   "name": "python3"
  },
  "language_info": {
   "codemirror_mode": {
    "name": "ipython",
    "version": 3
   },
   "file_extension": ".py",
   "mimetype": "text/x-python",
   "name": "python",
   "nbconvert_exporter": "python",
   "pygments_lexer": "ipython3",
   "version": "3.11.4"
  }
 },
 "nbformat": 4,
 "nbformat_minor": 2
}
